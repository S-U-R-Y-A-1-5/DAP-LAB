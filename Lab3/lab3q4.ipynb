{
 "cells": [
  {
   "cell_type": "code",
   "execution_count": 1,
   "id": "5fa920bf-0a6b-4f13-94a9-00619b2a6e2d",
   "metadata": {},
   "outputs": [
    {
     "name": "stdout",
     "output_type": "stream",
     "text": [
      "List of squares of even numbers: [4, 16, 36, 64, 100, 144, 196, 256, 324, 400]\n",
      "Sum of all squares: 1540\n"
     ]
    }
   ],
   "source": [
    "squares = [num**2 for num in range(1, 21) if num % 2 == 0]\n",
    "sum_of_squares = sum(squares)\n",
    "print(\"List of squares of even numbers:\", squares)\n",
    "print(\"Sum of all squares:\", sum_of_squares)\n"
   ]
  },
  {
   "cell_type": "code",
   "execution_count": null,
   "id": "40e6c39e-0481-44f3-9e13-ff6dec5489d7",
   "metadata": {},
   "outputs": [],
   "source": []
  }
 ],
 "metadata": {
  "kernelspec": {
   "display_name": "Python [conda env:base] *",
   "language": "python",
   "name": "conda-base-py"
  },
  "language_info": {
   "codemirror_mode": {
    "name": "ipython",
    "version": 3
   },
   "file_extension": ".py",
   "mimetype": "text/x-python",
   "name": "python",
   "nbconvert_exporter": "python",
   "pygments_lexer": "ipython3",
   "version": "3.12.7"
  }
 },
 "nbformat": 4,
 "nbformat_minor": 5
}
