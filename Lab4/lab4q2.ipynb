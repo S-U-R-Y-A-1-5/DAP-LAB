{
 "cells": [
  {
   "cell_type": "code",
   "execution_count": 1,
   "id": "c788caac-dce5-41d1-8512-265d503d5f68",
   "metadata": {},
   "outputs": [
    {
     "name": "stdin",
     "output_type": "stream",
     "text": [
      "Enter username: admin\n",
      "Enter password: 1234\n"
     ]
    },
    {
     "name": "stdout",
     "output_type": "stream",
     "text": [
      "Login successful\n"
     ]
    }
   ],
   "source": [
    "def check_login(username, password):\n",
    "    if username == \"admin\" and password == \"1234\":\n",
    "        return \"Login successful\"\n",
    "    else:\n",
    "        return \"Invalid credentials\"\n",
    "username = input(\"Enter username:\")\n",
    "password = input(\"Enter password:\")\n",
    "print(check_login(username, password))\n"
   ]
  },
  {
   "cell_type": "code",
   "execution_count": 3,
   "id": "936eba62-031b-401d-8c97-6b7e12bb852c",
   "metadata": {},
   "outputs": [
    {
     "name": "stdin",
     "output_type": "stream",
     "text": [
      "Enter username: admin\n",
      "Enter password: 123\n"
     ]
    },
    {
     "name": "stdout",
     "output_type": "stream",
     "text": [
      "Invalid credentials\n"
     ]
    }
   ],
   "source": [
    "def check_login(username, password):\n",
    "    if username == \"admin\" and password == \"1234\":\n",
    "        return \"Login successful\"\n",
    "    else:\n",
    "        return \"Invalid credentials\"\n",
    "username = input(\"Enter username:\")\n",
    "password = input(\"Enter password:\")\n",
    "print(check_login(username, password))\n"
   ]
  },
  {
   "cell_type": "code",
   "execution_count": null,
   "id": "2243fb2a-a033-496f-a6db-b6edd0207c7a",
   "metadata": {},
   "outputs": [],
   "source": []
  }
 ],
 "metadata": {
  "kernelspec": {
   "display_name": "Python [conda env:base] *",
   "language": "python",
   "name": "conda-base-py"
  },
  "language_info": {
   "codemirror_mode": {
    "name": "ipython",
    "version": 3
   },
   "file_extension": ".py",
   "mimetype": "text/x-python",
   "name": "python",
   "nbconvert_exporter": "python",
   "pygments_lexer": "ipython3",
   "version": "3.12.7"
  }
 },
 "nbformat": 4,
 "nbformat_minor": 5
}
