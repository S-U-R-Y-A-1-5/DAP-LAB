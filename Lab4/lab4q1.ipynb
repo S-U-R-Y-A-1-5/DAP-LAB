{
 "cells": [
  {
   "cell_type": "code",
   "execution_count": 1,
   "id": "38f3c5cd-e55d-41f8-8dc3-9c411e023e08",
   "metadata": {},
   "outputs": [
    {
     "name": "stdin",
     "output_type": "stream",
     "text": [
      "Enter your age:  20\n"
     ]
    },
    {
     "name": "stdout",
     "output_type": "stream",
     "text": [
      "Your ticket price is: ₹200\n"
     ]
    }
   ],
   "source": [
    "def get_ticket_price(age):\n",
    "    if age < 5:\n",
    "        return \"Free\"\n",
    "    elif age <= 18:\n",
    "        return \"₹100\"\n",
    "    elif age <= 60:\n",
    "        return \"₹200\"\n",
    "    else:\n",
    "        return \"₹150\"\n",
    "age = int(input(\"Enter your age: \"))\n",
    "print(f\"Your ticket price is: {get_ticket_price(age)}\")\n"
   ]
  },
  {
   "cell_type": "code",
   "execution_count": null,
   "id": "04dcdcac-33ff-477f-9733-883c973e2077",
   "metadata": {},
   "outputs": [],
   "source": []
  }
 ],
 "metadata": {
  "kernelspec": {
   "display_name": "Python [conda env:base] *",
   "language": "python",
   "name": "conda-base-py"
  },
  "language_info": {
   "codemirror_mode": {
    "name": "ipython",
    "version": 3
   },
   "file_extension": ".py",
   "mimetype": "text/x-python",
   "name": "python",
   "nbconvert_exporter": "python",
   "pygments_lexer": "ipython3",
   "version": "3.12.7"
  }
 },
 "nbformat": 4,
 "nbformat_minor": 5
}
